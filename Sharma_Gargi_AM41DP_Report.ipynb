{
 "cells": [
  {
   "cell_type": "markdown",
   "id": "cd550bb9",
   "metadata": {},
   "source": [
    "# Data Science Programming Assignment"
   ]
  },
  {
   "cell_type": "markdown",
   "id": "5130a350",
   "metadata": {},
   "source": [
    "Submitted by: Gargi Sharma\n",
    "\n",
    "Student ID: 210254217"
   ]
  },
  {
   "cell_type": "markdown",
   "id": "ff3d9a97",
   "metadata": {},
   "source": [
    "# M1\n",
    "### A short summary of the dataset."
   ]
  },
  {
   "cell_type": "markdown",
   "id": "05cfadf1",
   "metadata": {},
   "source": [
    "What we would like to have here is the list of columns in each database and their datatypes; along with the shape of each database and statistical inference which can be drawn out of each."
   ]
  },
  {
   "cell_type": "code",
   "execution_count": 1,
   "id": "32b59025",
   "metadata": {},
   "outputs": [],
   "source": [
    "import pandas as pd\n",
    "import numpy as np\n",
    "import warnings\n",
    "warnings.filterwarnings(\"ignore\")"
   ]
  },
  {
   "cell_type": "code",
   "execution_count": 2,
   "id": "aca7891a",
   "metadata": {},
   "outputs": [
    {
     "name": "stdout",
     "output_type": "stream",
     "text": [
      "<class 'pandas.core.frame.DataFrame'>\n",
      "RangeIndex: 14194 entries, 0 to 14193\n",
      "Data columns (total 10 columns):\n",
      " #   Column         Non-Null Count  Dtype \n",
      "---  ------         --------------  ----- \n",
      " 0   TSeq_seqtype   14194 non-null  object\n",
      " 1   TSeq_accver    13985 non-null  object\n",
      " 2   TSeq_taxid     14194 non-null  int64 \n",
      " 3   TSeq_orgname   14194 non-null  object\n",
      " 4   TSeq_defline   14194 non-null  object\n",
      " 5   TSeq_length    14194 non-null  int64 \n",
      " 6   TSeq_sequence  14194 non-null  object\n",
      " 7   UID            14194 non-null  object\n",
      " 8   DB             14194 non-null  object\n",
      " 9   TSeq_sid       1236 non-null   object\n",
      "dtypes: int64(2), object(8)\n",
      "memory usage: 1.1+ MB\n"
     ]
    }
   ],
   "source": [
    "proteins = pd.read_csv(\"proteins.csv\")\n",
    "proteins.info()"
   ]
  },
  {
   "cell_type": "code",
   "execution_count": 3,
   "id": "011a4f0e",
   "metadata": {
    "scrolled": true
   },
   "outputs": [
    {
     "name": "stdout",
     "output_type": "stream",
     "text": [
      "<class 'pandas.core.frame.DataFrame'>\n",
      "RangeIndex: 7105 entries, 0 to 7104\n",
      "Data columns (total 18 columns):\n",
      " #   Column          Non-Null Count  Dtype \n",
      "---  ------          --------------  ----- \n",
      " 0   pubmed_id       7105 non-null   int64 \n",
      " 1   year            7105 non-null   int64 \n",
      " 2   epit_name       7105 non-null   object\n",
      " 3   epitope_id      7105 non-null   int64 \n",
      " 4   evid_code       7104 non-null   object\n",
      " 5   epit_struc_def  7105 non-null   object\n",
      " 6   sourceOrg_id    7105 non-null   int64 \n",
      " 7   protein_id      7105 non-null   object\n",
      " 8   epit_seq        7105 non-null   object\n",
      " 9   start_pos       7105 non-null   int64 \n",
      " 10  end_pos         7105 non-null   int64 \n",
      " 11  n_assays        7105 non-null   int64 \n",
      " 12  host_id         7105 non-null   object\n",
      " 13  bcell_id        7105 non-null   object\n",
      " 14  assay_type      7105 non-null   object\n",
      " 15  n_Positive      7105 non-null   int64 \n",
      " 16  n_Negative      7105 non-null   int64 \n",
      " 17  assay_class     7105 non-null   object\n",
      "dtypes: int64(9), object(9)\n",
      "memory usage: 999.3+ KB\n"
     ]
    }
   ],
   "source": [
    "epitopes = pd.read_csv(\"Sp_epitopes.csv\")\n",
    "epitopes.info()"
   ]
  },
  {
   "cell_type": "markdown",
   "id": "7b563069",
   "metadata": {},
   "source": [
    "We import the dataset and read it as a csv file. We use info() command to extract all the necessary information about the given datasets. We can see a detailed analysis regarding all the rows in the 2 datasets. We will exploit all these details further in the assignment."
   ]
  },
  {
   "cell_type": "code",
   "execution_count": 4,
   "id": "b9b2fd54",
   "metadata": {},
   "outputs": [
    {
     "data": {
      "text/plain": [
       "(7105, 18)"
      ]
     },
     "execution_count": 4,
     "metadata": {},
     "output_type": "execute_result"
    }
   ],
   "source": [
    "epitopes.shape"
   ]
  },
  {
   "cell_type": "code",
   "execution_count": 5,
   "id": "225f3907",
   "metadata": {},
   "outputs": [
    {
     "data": {
      "text/plain": [
       "(14194, 10)"
      ]
     },
     "execution_count": 5,
     "metadata": {},
     "output_type": "execute_result"
    }
   ],
   "source": [
    "proteins.shape"
   ]
  },
  {
   "cell_type": "markdown",
   "id": "3b3c35e9",
   "metadata": {},
   "source": [
    "Proteins dataset has 14194 rows and 10 columns while Sp_epitopes has 7105 rows and 18 columns."
   ]
  },
  {
   "cell_type": "code",
   "execution_count": 6,
   "id": "efeee0d3",
   "metadata": {},
   "outputs": [
    {
     "data": {
      "text/html": [
       "<div>\n",
       "<style scoped>\n",
       "    .dataframe tbody tr th:only-of-type {\n",
       "        vertical-align: middle;\n",
       "    }\n",
       "\n",
       "    .dataframe tbody tr th {\n",
       "        vertical-align: top;\n",
       "    }\n",
       "\n",
       "    .dataframe thead th {\n",
       "        text-align: right;\n",
       "    }\n",
       "</style>\n",
       "<table border=\"1\" class=\"dataframe\">\n",
       "  <thead>\n",
       "    <tr style=\"text-align: right;\">\n",
       "      <th></th>\n",
       "      <th>pubmed_id</th>\n",
       "      <th>year</th>\n",
       "      <th>epitope_id</th>\n",
       "      <th>sourceOrg_id</th>\n",
       "      <th>start_pos</th>\n",
       "      <th>end_pos</th>\n",
       "      <th>n_assays</th>\n",
       "      <th>n_Positive</th>\n",
       "      <th>n_Negative</th>\n",
       "    </tr>\n",
       "  </thead>\n",
       "  <tbody>\n",
       "    <tr>\n",
       "      <th>count</th>\n",
       "      <td>7.105000e+03</td>\n",
       "      <td>7105.000000</td>\n",
       "      <td>7105.000000</td>\n",
       "      <td>7105.000000</td>\n",
       "      <td>7105.000000</td>\n",
       "      <td>7105.000000</td>\n",
       "      <td>7105.000000</td>\n",
       "      <td>7105.000000</td>\n",
       "      <td>7105.000000</td>\n",
       "    </tr>\n",
       "    <tr>\n",
       "      <th>mean</th>\n",
       "      <td>2.662528e+07</td>\n",
       "      <td>2015.682336</td>\n",
       "      <td>512126.174806</td>\n",
       "      <td>2158.855735</td>\n",
       "      <td>310.544265</td>\n",
       "      <td>324.584659</td>\n",
       "      <td>1.005348</td>\n",
       "      <td>0.043350</td>\n",
       "      <td>0.961999</td>\n",
       "    </tr>\n",
       "    <tr>\n",
       "      <th>std</th>\n",
       "      <td>2.210198e+06</td>\n",
       "      <td>2.471744</td>\n",
       "      <td>63823.520147</td>\n",
       "      <td>15902.596912</td>\n",
       "      <td>249.941165</td>\n",
       "      <td>249.943675</td>\n",
       "      <td>0.099121</td>\n",
       "      <td>0.232691</td>\n",
       "      <td>0.191213</td>\n",
       "    </tr>\n",
       "    <tr>\n",
       "      <th>min</th>\n",
       "      <td>2.677144e+06</td>\n",
       "      <td>1989.000000</td>\n",
       "      <td>263.000000</td>\n",
       "      <td>1314.000000</td>\n",
       "      <td>1.000000</td>\n",
       "      <td>15.000000</td>\n",
       "      <td>1.000000</td>\n",
       "      <td>0.000000</td>\n",
       "      <td>0.000000</td>\n",
       "    </tr>\n",
       "    <tr>\n",
       "      <th>25%</th>\n",
       "      <td>2.691165e+07</td>\n",
       "      <td>2016.000000</td>\n",
       "      <td>515323.000000</td>\n",
       "      <td>1314.000000</td>\n",
       "      <td>119.000000</td>\n",
       "      <td>133.000000</td>\n",
       "      <td>1.000000</td>\n",
       "      <td>0.000000</td>\n",
       "      <td>1.000000</td>\n",
       "    </tr>\n",
       "    <tr>\n",
       "      <th>50%</th>\n",
       "      <td>2.691165e+07</td>\n",
       "      <td>2016.000000</td>\n",
       "      <td>520794.000000</td>\n",
       "      <td>1314.000000</td>\n",
       "      <td>258.000000</td>\n",
       "      <td>272.000000</td>\n",
       "      <td>1.000000</td>\n",
       "      <td>0.000000</td>\n",
       "      <td>1.000000</td>\n",
       "    </tr>\n",
       "    <tr>\n",
       "      <th>75%</th>\n",
       "      <td>2.691165e+07</td>\n",
       "      <td>2016.000000</td>\n",
       "      <td>525262.000000</td>\n",
       "      <td>1314.000000</td>\n",
       "      <td>426.000000</td>\n",
       "      <td>440.000000</td>\n",
       "      <td>1.000000</td>\n",
       "      <td>0.000000</td>\n",
       "      <td>1.000000</td>\n",
       "    </tr>\n",
       "    <tr>\n",
       "      <th>max</th>\n",
       "      <td>3.178798e+07</td>\n",
       "      <td>2019.000000</td>\n",
       "      <td>956369.000000</td>\n",
       "      <td>301449.000000</td>\n",
       "      <td>1168.000000</td>\n",
       "      <td>1182.000000</td>\n",
       "      <td>5.000000</td>\n",
       "      <td>4.000000</td>\n",
       "      <td>1.000000</td>\n",
       "    </tr>\n",
       "  </tbody>\n",
       "</table>\n",
       "</div>"
      ],
      "text/plain": [
       "          pubmed_id         year     epitope_id   sourceOrg_id    start_pos  \\\n",
       "count  7.105000e+03  7105.000000    7105.000000    7105.000000  7105.000000   \n",
       "mean   2.662528e+07  2015.682336  512126.174806    2158.855735   310.544265   \n",
       "std    2.210198e+06     2.471744   63823.520147   15902.596912   249.941165   \n",
       "min    2.677144e+06  1989.000000     263.000000    1314.000000     1.000000   \n",
       "25%    2.691165e+07  2016.000000  515323.000000    1314.000000   119.000000   \n",
       "50%    2.691165e+07  2016.000000  520794.000000    1314.000000   258.000000   \n",
       "75%    2.691165e+07  2016.000000  525262.000000    1314.000000   426.000000   \n",
       "max    3.178798e+07  2019.000000  956369.000000  301449.000000  1168.000000   \n",
       "\n",
       "           end_pos     n_assays   n_Positive   n_Negative  \n",
       "count  7105.000000  7105.000000  7105.000000  7105.000000  \n",
       "mean    324.584659     1.005348     0.043350     0.961999  \n",
       "std     249.943675     0.099121     0.232691     0.191213  \n",
       "min      15.000000     1.000000     0.000000     0.000000  \n",
       "25%     133.000000     1.000000     0.000000     1.000000  \n",
       "50%     272.000000     1.000000     0.000000     1.000000  \n",
       "75%     440.000000     1.000000     0.000000     1.000000  \n",
       "max    1182.000000     5.000000     4.000000     1.000000  "
      ]
     },
     "execution_count": 6,
     "metadata": {},
     "output_type": "execute_result"
    }
   ],
   "source": [
    "epitopes.describe()"
   ]
  },
  {
   "cell_type": "code",
   "execution_count": 7,
   "id": "8632896c",
   "metadata": {},
   "outputs": [
    {
     "data": {
      "text/html": [
       "<div>\n",
       "<style scoped>\n",
       "    .dataframe tbody tr th:only-of-type {\n",
       "        vertical-align: middle;\n",
       "    }\n",
       "\n",
       "    .dataframe tbody tr th {\n",
       "        vertical-align: top;\n",
       "    }\n",
       "\n",
       "    .dataframe thead th {\n",
       "        text-align: right;\n",
       "    }\n",
       "</style>\n",
       "<table border=\"1\" class=\"dataframe\">\n",
       "  <thead>\n",
       "    <tr style=\"text-align: right;\">\n",
       "      <th></th>\n",
       "      <th>TSeq_taxid</th>\n",
       "      <th>TSeq_length</th>\n",
       "    </tr>\n",
       "  </thead>\n",
       "  <tbody>\n",
       "    <tr>\n",
       "      <th>count</th>\n",
       "      <td>1.419400e+04</td>\n",
       "      <td>14194.000000</td>\n",
       "    </tr>\n",
       "    <tr>\n",
       "      <th>mean</th>\n",
       "      <td>7.125339e+04</td>\n",
       "      <td>731.372974</td>\n",
       "    </tr>\n",
       "    <tr>\n",
       "      <th>std</th>\n",
       "      <td>2.240602e+05</td>\n",
       "      <td>984.979330</td>\n",
       "    </tr>\n",
       "    <tr>\n",
       "      <th>min</th>\n",
       "      <td>0.000000e+00</td>\n",
       "      <td>9.000000</td>\n",
       "    </tr>\n",
       "    <tr>\n",
       "      <th>25%</th>\n",
       "      <td>9.606000e+03</td>\n",
       "      <td>266.000000</td>\n",
       "    </tr>\n",
       "    <tr>\n",
       "      <th>50%</th>\n",
       "      <td>9.606000e+03</td>\n",
       "      <td>468.000000</td>\n",
       "    </tr>\n",
       "    <tr>\n",
       "      <th>75%</th>\n",
       "      <td>1.114900e+04</td>\n",
       "      <td>833.000000</td>\n",
       "    </tr>\n",
       "    <tr>\n",
       "      <th>max</th>\n",
       "      <td>2.768764e+06</td>\n",
       "      <td>35991.000000</td>\n",
       "    </tr>\n",
       "  </tbody>\n",
       "</table>\n",
       "</div>"
      ],
      "text/plain": [
       "         TSeq_taxid   TSeq_length\n",
       "count  1.419400e+04  14194.000000\n",
       "mean   7.125339e+04    731.372974\n",
       "std    2.240602e+05    984.979330\n",
       "min    0.000000e+00      9.000000\n",
       "25%    9.606000e+03    266.000000\n",
       "50%    9.606000e+03    468.000000\n",
       "75%    1.114900e+04    833.000000\n",
       "max    2.768764e+06  35991.000000"
      ]
     },
     "execution_count": 7,
     "metadata": {},
     "output_type": "execute_result"
    }
   ],
   "source": [
    "proteins.describe()"
   ]
  },
  {
   "cell_type": "markdown",
   "id": "8698b8be",
   "metadata": {},
   "source": [
    "We analyse the 2 datasets."
   ]
  },
  {
   "cell_type": "markdown",
   "id": "17c1a532",
   "metadata": {},
   "source": [
    "# M2\n",
    "### Adequately join the protein sequences onto the epitopes table "
   ]
  },
  {
   "cell_type": "markdown",
   "id": "1458956a",
   "metadata": {},
   "source": [
    "As we proceed further with the two given datasets, we would very much like to draw conclusions if these two are related and are treated as one table instead of two and it would make things easier. We find that both these table have a common column but with different column names. So, we merge them on these columns while temporarily making a new column for our own convenience(which we drop in the next question) to drop null values."
   ]
  },
  {
   "cell_type": "code",
   "execution_count": 8,
   "id": "14e8689a",
   "metadata": {},
   "outputs": [
    {
     "data": {
      "text/plain": [
       "(7105, 28)"
      ]
     },
     "execution_count": 8,
     "metadata": {},
     "output_type": "execute_result"
    }
   ],
   "source": [
    "pro_epi = pd.merge(left = epitopes, right = proteins, how = 'left', left_on = \"protein_id\", right_on = \"UID\") # [13]\n",
    "pro_epi.shape "
   ]
  },
  {
   "cell_type": "code",
   "execution_count": 9,
   "id": "d9815813",
   "metadata": {},
   "outputs": [
    {
     "data": {
      "text/plain": [
       "(7105, 29)"
      ]
     },
     "execution_count": 9,
     "metadata": {},
     "output_type": "execute_result"
    }
   ],
   "source": [
    "pro_epi['protein_id - UID'] = pro_epi['protein_id'].str.cat(pro_epi[[\"UID\"]], sep = \"-\") # [2]\n",
    "pro_epi.shape"
   ]
  },
  {
   "cell_type": "markdown",
   "id": "43124c64",
   "metadata": {},
   "source": [
    "Here, first we join the two datasets on the same column which has 2 different names in each table. On a temporary basis, we make a new column which stores the concated strings of protein id and uid. But then we drop this column in M3(bcs my friend told me its redundant).  [13], [2]"
   ]
  },
  {
   "cell_type": "markdown",
   "id": "5bc81136",
   "metadata": {},
   "source": [
    "# M3\n",
    "### Remove invalid observations:\n",
    "#### (i) those without corresponding protein sequences;\n",
    "#### (ii) those for which the epitope substring is not located in the correct\n",
    "#### position of the protein string (based on start_pos and end_pos);\n",
    "#### (iii) those with start_pos < 8 or with end_pos > (TSeq_length – 8)"
   ]
  },
  {
   "cell_type": "code",
   "execution_count": 10,
   "id": "3e0e517e",
   "metadata": {},
   "outputs": [
    {
     "data": {
      "text/plain": [
       "(7100, 28)"
      ]
     },
     "execution_count": 10,
     "metadata": {},
     "output_type": "execute_result"
    }
   ],
   "source": [
    "prot_epit = pro_epi[pro_epi['protein_id - UID'].notnull()] # [3]\n",
    "prot_epit.drop([\"protein_id - UID\"], axis = 1, inplace = True)  # [4]\n",
    "prot_epit.shape"
   ]
  },
  {
   "cell_type": "markdown",
   "id": "d1fe4587",
   "metadata": {},
   "source": [
    "Here we dropped the rows which do not have any protein sequences corresponding to it by simply using drop() statement after the table name and specifying the column which should be dropped. [3], [4]"
   ]
  },
  {
   "cell_type": "markdown",
   "id": "dbd275ca",
   "metadata": {},
   "source": [
    "In this question, we will examine which entries in TSeq_sequence do not have a corresponding protein sequence in epit_seq according to the positions mentioned in start_pos and end_pos. We need to drop these entries."
   ]
  },
  {
   "cell_type": "code",
   "execution_count": 11,
   "id": "14618f01",
   "metadata": {},
   "outputs": [
    {
     "data": {
      "text/plain": [
       "[4, 21, 72, 215, 7093, 7102]"
      ]
     },
     "execution_count": 11,
     "metadata": {},
     "output_type": "execute_result"
    }
   ],
   "source": [
    "to_drop = []\n",
    "for i in prot_epit.index:\n",
    "    a = prot_epit.loc[i][\"start_pos\"]  # [15]\n",
    "    type(int(a))\n",
    "    a-=1\n",
    "    b = prot_epit.loc[i][\"end_pos\"]\n",
    "    c = prot_epit.loc[i][\"TSeq_sequence\"][a:b]\n",
    "    if c != prot_epit.loc[i][\"epit_seq\"]:\n",
    "            to_drop.append(i)\n",
    "to_drop"
   ]
  },
  {
   "cell_type": "code",
   "execution_count": 12,
   "id": "7e41feaf",
   "metadata": {},
   "outputs": [
    {
     "data": {
      "text/plain": [
       "(7094, 28)"
      ]
     },
     "execution_count": 12,
     "metadata": {},
     "output_type": "execute_result"
    }
   ],
   "source": [
    "prot_epit.drop(to_drop, inplace = True)\n",
    "prot_epit.shape"
   ]
  },
  {
   "cell_type": "markdown",
   "id": "d382a9a1",
   "metadata": {},
   "source": [
    "First we list all the rows for which the epitope substring is not located in the correct position of the protein string in an array called to_drop. We locate the correct position using the inbuilt .loc function of python here. After getting the elements of the array, we feed the array to drop function of python which then knows it has to delete rows from the dataset.  [15]"
   ]
  },
  {
   "cell_type": "code",
   "execution_count": 13,
   "id": "81917a81",
   "metadata": {},
   "outputs": [
    {
     "data": {
      "text/plain": [
       "(6826, 28)"
      ]
     },
     "execution_count": 13,
     "metadata": {},
     "output_type": "execute_result"
    }
   ],
   "source": [
    "drop_these = prot_epit[(prot_epit[\"start_pos\"] < 8 )| (prot_epit[\"end_pos\"] > (prot_epit[\"TSeq_length\"] - 8))].index\n",
    "prot_epit.drop(drop_these, inplace = True) # [4]\n",
    "prot_epit.shape"
   ]
  },
  {
   "cell_type": "markdown",
   "id": "535f19b8",
   "metadata": {},
   "source": [
    "We apply the same algorithm here and for the next one too; i.e. list the entries to be deleted with an or sperator and feed them to the drop() function of python so that the required entries are deleted from the dataset.  [4]"
   ]
  },
  {
   "cell_type": "code",
   "execution_count": 14,
   "id": "f1d2f385",
   "metadata": {},
   "outputs": [
    {
     "data": {
      "text/plain": [
       "(6826, 28)"
      ]
     },
     "execution_count": 14,
     "metadata": {},
     "output_type": "execute_result"
    }
   ],
   "source": [
    "prot_epit.drop(prot_epit[prot_epit[\"epit_seq\"].str.contains(\"B|J|X|Z\")].index, inplace = True) # [14]\n",
    "prot_epit.shape"
   ]
  },
  {
   "cell_type": "markdown",
   "id": "2f2a6e4e",
   "metadata": {},
   "source": [
    "If the columns contain either of B, J, X or Z, they would be deleted.  [14]"
   ]
  },
  {
   "cell_type": "markdown",
   "id": "21e8c89b",
   "metadata": {},
   "source": [
    "# M4\n",
    "### Calculate the Class attribute for this data set based on the number of\n",
    "### positive and negative assays (if n_Positive >= n_Negative then Class =1, otherwise Class = 0"
   ]
  },
  {
   "cell_type": "markdown",
   "id": "665ebd38",
   "metadata": {},
   "source": [
    "We need to compare n_Positive and n_Negative columns for each row here and assign the result to a new column. If n_Positive > n_Negative, then the class is 1 otherwise class is 0."
   ]
  },
  {
   "cell_type": "code",
   "execution_count": 15,
   "id": "9fb4270f",
   "metadata": {},
   "outputs": [
    {
     "data": {
      "text/html": [
       "<div>\n",
       "<style scoped>\n",
       "    .dataframe tbody tr th:only-of-type {\n",
       "        vertical-align: middle;\n",
       "    }\n",
       "\n",
       "    .dataframe tbody tr th {\n",
       "        vertical-align: top;\n",
       "    }\n",
       "\n",
       "    .dataframe thead th {\n",
       "        text-align: right;\n",
       "    }\n",
       "</style>\n",
       "<table border=\"1\" class=\"dataframe\">\n",
       "  <thead>\n",
       "    <tr style=\"text-align: right;\">\n",
       "      <th></th>\n",
       "      <th>pubmed_id</th>\n",
       "      <th>year</th>\n",
       "      <th>epit_name</th>\n",
       "      <th>epitope_id</th>\n",
       "      <th>evid_code</th>\n",
       "      <th>epit_struc_def</th>\n",
       "      <th>sourceOrg_id</th>\n",
       "      <th>protein_id</th>\n",
       "      <th>epit_seq</th>\n",
       "      <th>start_pos</th>\n",
       "      <th>...</th>\n",
       "      <th>TSeq_accver</th>\n",
       "      <th>TSeq_taxid</th>\n",
       "      <th>TSeq_orgname</th>\n",
       "      <th>TSeq_defline</th>\n",
       "      <th>TSeq_length</th>\n",
       "      <th>TSeq_sequence</th>\n",
       "      <th>UID</th>\n",
       "      <th>DB</th>\n",
       "      <th>TSeq_sid</th>\n",
       "      <th>class</th>\n",
       "    </tr>\n",
       "  </thead>\n",
       "  <tbody>\n",
       "    <tr>\n",
       "      <th>0</th>\n",
       "      <td>7678505</td>\n",
       "      <td>1993</td>\n",
       "      <td>SK (42-49)</td>\n",
       "      <td>114463</td>\n",
       "      <td>Representative selection</td>\n",
       "      <td>Exact Epitope</td>\n",
       "      <td>1314</td>\n",
       "      <td>AAB20743.1</td>\n",
       "      <td>LTSRPAHG</td>\n",
       "      <td>42</td>\n",
       "      <td>...</td>\n",
       "      <td>AAB20743.1</td>\n",
       "      <td>1314.0</td>\n",
       "      <td>Streptococcus pyogenes</td>\n",
       "      <td>streptokinase, SKase [Streptococcus pyogenes, ...</td>\n",
       "      <td>414.0</td>\n",
       "      <td>IAGPEWLLDRPSVNNSQLVVSVAGTVEGTNQEISLKFFEIDLTSRP...</td>\n",
       "      <td>AAB20743.1</td>\n",
       "      <td>NCBI protein</td>\n",
       "      <td>bbs|74592</td>\n",
       "      <td>1</td>\n",
       "    </tr>\n",
       "    <tr>\n",
       "      <th>2</th>\n",
       "      <td>26911649</td>\n",
       "      <td>2016</td>\n",
       "      <td>spy0469 P14</td>\n",
       "      <td>511327</td>\n",
       "      <td>Representative selection</td>\n",
       "      <td>Epitope containing region/antigenic site</td>\n",
       "      <td>1314</td>\n",
       "      <td>AAK33481.1</td>\n",
       "      <td>ALSLVPLATAQAQEW</td>\n",
       "      <td>14</td>\n",
       "      <td>...</td>\n",
       "      <td>AAK33481.1</td>\n",
       "      <td>160490.0</td>\n",
       "      <td>Streptococcus pyogenes M1 GAS</td>\n",
       "      <td>putative 42 kDa protein [Streptococcus pyogene...</td>\n",
       "      <td>389.0</td>\n",
       "      <td>MIITKKSLFVTSVALSLVPLATAQAQEWTPRSVTEIKSELVLVDNV...</td>\n",
       "      <td>AAK33481.1</td>\n",
       "      <td>NCBI protein</td>\n",
       "      <td>gnl|uohsc|SPy0469</td>\n",
       "      <td>0</td>\n",
       "    </tr>\n",
       "    <tr>\n",
       "      <th>3</th>\n",
       "      <td>26911649</td>\n",
       "      <td>2016</td>\n",
       "      <td>spy0469 P91</td>\n",
       "      <td>511425</td>\n",
       "      <td>Representative selection</td>\n",
       "      <td>Epitope containing region/antigenic site</td>\n",
       "      <td>1314</td>\n",
       "      <td>AAK33481.1</td>\n",
       "      <td>ANYNQHGQATNLTVQ</td>\n",
       "      <td>91</td>\n",
       "      <td>...</td>\n",
       "      <td>AAK33481.1</td>\n",
       "      <td>160490.0</td>\n",
       "      <td>Streptococcus pyogenes M1 GAS</td>\n",
       "      <td>putative 42 kDa protein [Streptococcus pyogene...</td>\n",
       "      <td>389.0</td>\n",
       "      <td>MIITKKSLFVTSVALSLVPLATAQAQEWTPRSVTEIKSELVLVDNV...</td>\n",
       "      <td>AAK33481.1</td>\n",
       "      <td>NCBI protein</td>\n",
       "      <td>gnl|uohsc|SPy0469</td>\n",
       "      <td>0</td>\n",
       "    </tr>\n",
       "    <tr>\n",
       "      <th>5</th>\n",
       "      <td>26911649</td>\n",
       "      <td>2016</td>\n",
       "      <td>spy0469 P211</td>\n",
       "      <td>511701</td>\n",
       "      <td>Representative selection</td>\n",
       "      <td>Epitope containing region/antigenic site</td>\n",
       "      <td>1314</td>\n",
       "      <td>AAK33481.1</td>\n",
       "      <td>APTSANRPVPNESAS</td>\n",
       "      <td>211</td>\n",
       "      <td>...</td>\n",
       "      <td>AAK33481.1</td>\n",
       "      <td>160490.0</td>\n",
       "      <td>Streptococcus pyogenes M1 GAS</td>\n",
       "      <td>putative 42 kDa protein [Streptococcus pyogene...</td>\n",
       "      <td>389.0</td>\n",
       "      <td>MIITKKSLFVTSVALSLVPLATAQAQEWTPRSVTEIKSELVLVDNV...</td>\n",
       "      <td>AAK33481.1</td>\n",
       "      <td>NCBI protein</td>\n",
       "      <td>gnl|uohsc|SPy0469</td>\n",
       "      <td>0</td>\n",
       "    </tr>\n",
       "    <tr>\n",
       "      <th>6</th>\n",
       "      <td>26911649</td>\n",
       "      <td>2016</td>\n",
       "      <td>spy0469 P126</td>\n",
       "      <td>512004</td>\n",
       "      <td>Representative selection</td>\n",
       "      <td>Epitope containing region/antigenic site</td>\n",
       "      <td>1314</td>\n",
       "      <td>AAK33481.1</td>\n",
       "      <td>ASATSQPTVPMAPPA</td>\n",
       "      <td>126</td>\n",
       "      <td>...</td>\n",
       "      <td>AAK33481.1</td>\n",
       "      <td>160490.0</td>\n",
       "      <td>Streptococcus pyogenes M1 GAS</td>\n",
       "      <td>putative 42 kDa protein [Streptococcus pyogene...</td>\n",
       "      <td>389.0</td>\n",
       "      <td>MIITKKSLFVTSVALSLVPLATAQAQEWTPRSVTEIKSELVLVDNV...</td>\n",
       "      <td>AAK33481.1</td>\n",
       "      <td>NCBI protein</td>\n",
       "      <td>gnl|uohsc|SPy0469</td>\n",
       "      <td>0</td>\n",
       "    </tr>\n",
       "  </tbody>\n",
       "</table>\n",
       "<p>5 rows × 29 columns</p>\n",
       "</div>"
      ],
      "text/plain": [
       "   pubmed_id  year     epit_name  epitope_id                 evid_code  \\\n",
       "0    7678505  1993    SK (42-49)      114463  Representative selection   \n",
       "2   26911649  2016   spy0469 P14      511327  Representative selection   \n",
       "3   26911649  2016   spy0469 P91      511425  Representative selection   \n",
       "5   26911649  2016  spy0469 P211      511701  Representative selection   \n",
       "6   26911649  2016  spy0469 P126      512004  Representative selection   \n",
       "\n",
       "                             epit_struc_def  sourceOrg_id  protein_id  \\\n",
       "0                             Exact Epitope          1314  AAB20743.1   \n",
       "2  Epitope containing region/antigenic site          1314  AAK33481.1   \n",
       "3  Epitope containing region/antigenic site          1314  AAK33481.1   \n",
       "5  Epitope containing region/antigenic site          1314  AAK33481.1   \n",
       "6  Epitope containing region/antigenic site          1314  AAK33481.1   \n",
       "\n",
       "          epit_seq  start_pos  ...  TSeq_accver  TSeq_taxid  \\\n",
       "0         LTSRPAHG         42  ...   AAB20743.1      1314.0   \n",
       "2  ALSLVPLATAQAQEW         14  ...   AAK33481.1    160490.0   \n",
       "3  ANYNQHGQATNLTVQ         91  ...   AAK33481.1    160490.0   \n",
       "5  APTSANRPVPNESAS        211  ...   AAK33481.1    160490.0   \n",
       "6  ASATSQPTVPMAPPA        126  ...   AAK33481.1    160490.0   \n",
       "\n",
       "                    TSeq_orgname  \\\n",
       "0         Streptococcus pyogenes   \n",
       "2  Streptococcus pyogenes M1 GAS   \n",
       "3  Streptococcus pyogenes M1 GAS   \n",
       "5  Streptococcus pyogenes M1 GAS   \n",
       "6  Streptococcus pyogenes M1 GAS   \n",
       "\n",
       "                                        TSeq_defline TSeq_length  \\\n",
       "0  streptokinase, SKase [Streptococcus pyogenes, ...       414.0   \n",
       "2  putative 42 kDa protein [Streptococcus pyogene...       389.0   \n",
       "3  putative 42 kDa protein [Streptococcus pyogene...       389.0   \n",
       "5  putative 42 kDa protein [Streptococcus pyogene...       389.0   \n",
       "6  putative 42 kDa protein [Streptococcus pyogene...       389.0   \n",
       "\n",
       "                                       TSeq_sequence         UID  \\\n",
       "0  IAGPEWLLDRPSVNNSQLVVSVAGTVEGTNQEISLKFFEIDLTSRP...  AAB20743.1   \n",
       "2  MIITKKSLFVTSVALSLVPLATAQAQEWTPRSVTEIKSELVLVDNV...  AAK33481.1   \n",
       "3  MIITKKSLFVTSVALSLVPLATAQAQEWTPRSVTEIKSELVLVDNV...  AAK33481.1   \n",
       "5  MIITKKSLFVTSVALSLVPLATAQAQEWTPRSVTEIKSELVLVDNV...  AAK33481.1   \n",
       "6  MIITKKSLFVTSVALSLVPLATAQAQEWTPRSVTEIKSELVLVDNV...  AAK33481.1   \n",
       "\n",
       "             DB           TSeq_sid class  \n",
       "0  NCBI protein          bbs|74592     1  \n",
       "2  NCBI protein  gnl|uohsc|SPy0469     0  \n",
       "3  NCBI protein  gnl|uohsc|SPy0469     0  \n",
       "5  NCBI protein  gnl|uohsc|SPy0469     0  \n",
       "6  NCBI protein  gnl|uohsc|SPy0469     0  \n",
       "\n",
       "[5 rows x 29 columns]"
      ]
     },
     "execution_count": 15,
     "metadata": {},
     "output_type": "execute_result"
    }
   ],
   "source": [
    "class_list = []\n",
    "for i in prot_epit.index:\n",
    "    a =prot_epit.loc[i][\"n_Positive\"]\n",
    "    type(int(a))\n",
    "    b = prot_epit.loc[i][\"n_Negative\"]\n",
    "    type(int(b))\n",
    "    if(a >= b):\n",
    "        c = 1\n",
    "    else:\n",
    "        c = 0\n",
    "    class_list.append(c)\n",
    "prot_epit[\"class\"] = class_list\n",
    "prot_epit.head()"
   ]
  },
  {
   "cell_type": "markdown",
   "id": "0f91def8",
   "metadata": {},
   "source": [
    "Here we store two rows, n_Positive and n_Negative in seperate variables and compare them after converting their datatype to int. We define a new row for class such that if n_Positive is greater than n_Negative then class is 1 else class is zero. All the values thus obtained are stored in a list which goes on further to become a new column called class in the table."
   ]
  },
  {
   "cell_type": "markdown",
   "id": "0242708c",
   "metadata": {},
   "source": [
    "# M5\n",
    "## Develop high-quality visualisations of the main characteristics of the\n",
    "### resulting joined data set. The minimal requirement here is\n",
    "### (i) a graphical investigation of Class balance;\n"
   ]
  },
  {
   "cell_type": "markdown",
   "id": "6035d414",
   "metadata": {},
   "source": [
    "After we obtained the class row in the previous question, we need to plot it against one of the rows to investigate babalnce of class in our database. We do this using a bar plot in ggplot. We need to group the entries of the column according to the class and add them together for our graphical model to be readable."
   ]
  },
  {
   "cell_type": "code",
   "execution_count": 16,
   "id": "d0762e9b",
   "metadata": {
    "scrolled": true
   },
   "outputs": [
    {
     "data": {
      "image/png": "[encoded data removed]",
      "text/plain": [
       "<Figure size 216x432 with 1 Axes>"
      ]
     },
     "metadata": {},
     "output_type": "display_data"
    }
   ],
   "source": [
    "class_0 = []\n",
    "class_1 = []\n",
    "for i in prot_epit[\"class\"]:\n",
    "    if i == 0:\n",
    "        class_0.append(i)\n",
    "    else:\n",
    "        class_1.append(i)\n",
    "to_plot = [len(class_0), len(class_1)]\n",
    "classes = [\"Class 0\", \"Class 1\"]\n",
    "import matplotlib.pyplot as plt\n",
    "plt.style.use('seaborn-ticks')\n",
    "fig = plt.figure(figsize = (3, 6))\n",
    "plt.bar(classes, to_plot, color = \"#FFFF00\")\n",
    "plt.ylabel('Number of observations in each class')\n",
    "plt.show()"
   ]
  },
  {
   "cell_type": "markdown",
   "id": "e0c55c7a",
   "metadata": {},
   "source": [
    "[10]"
   ]
  },
  {
   "cell_type": "markdown",
   "id": "186eae72",
   "metadata": {},
   "source": [
    "Here, we wish to observe the distribution of class. So we make 2 empty lists and update them whenever classes are 0 and 1 respectively. To observe the magnitude of difference between the two length of two lists, we plot it using matplot library of python and obtain the graph suggesting that number of observations in Class 0 is much higher than the number of observations in Class 1."
   ]
  },
  {
   "cell_type": "markdown",
   "id": "e742c283",
   "metadata": {},
   "source": [
    "### (ii) a graphical investigation of the distribution of epitope lengths;\n"
   ]
  },
  {
   "cell_type": "markdown",
   "id": "706ff612",
   "metadata": {},
   "source": [
    "Here, we introduce a new column called epit_len to record the length of each epitope of the database. Further we plot this column to examine its distribution. (Kindly Scroll through the output)"
   ]
  },
  {
   "cell_type": "code",
   "execution_count": 17,
   "id": "a1a554f0",
   "metadata": {},
   "outputs": [
    {
     "data": {
      "image/png": "[encoded data removed]",
      "text/plain": [
       "<Figure size 576x8640 with 1 Axes>"
      ]
     },
     "metadata": {},
     "output_type": "display_data"
    }
   ],
   "source": [
    "prot_epit[\"epit_len\"] = prot_epit.epit_seq.astype(str).str.len() # [1]\n",
    "fig = plt.figure(figsize = (8, 120))\n",
    "plt.style.use(\"seaborn-notebook\")\n",
    "plt.hist(prot_epit.epit_len, color = \"#DC143C\")\n",
    "plt.show()"
   ]
  },
  {
   "cell_type": "markdown",
   "id": "d00a3d15",
   "metadata": {},
   "source": [
    "Here, we see that 99% of of the entries in epit_seq have the same length i.e 15. Rest 1% have different lengths.  [1]"
   ]
  },
  {
   "cell_type": "markdown",
   "id": "2b6f22fd",
   "metadata": {},
   "source": [
    "### (iii) A grouped bar chart of the frequencies (%) of each aminoacid letter in\n",
    "### Positive vs Negative observations.\n",
    "### Discuss what these visualisations are showing"
   ]
  },
  {
   "cell_type": "markdown",
   "id": "f854c2f0",
   "metadata": {},
   "source": [
    "We need to incorporate multiple functions to get what we want to obtain here. First we need to count the total number of occurances of each letter in epit_seq column. Then we need to group all these occurances according to class and count the number of occurances for each class. As a lot of data is needed, We prefer having a small table to organise everything neatly and in a consistent manner so that we get a nice graph. "
   ]
  },
  {
   "cell_type": "code",
   "execution_count": 18,
   "id": "c10c12e2",
   "metadata": {},
   "outputs": [
    {
     "data": {
      "text/html": [
       "<div>\n",
       "<style scoped>\n",
       "    .dataframe tbody tr th:only-of-type {\n",
       "        vertical-align: middle;\n",
       "    }\n",
       "\n",
       "    .dataframe tbody tr th {\n",
       "        vertical-align: top;\n",
       "    }\n",
       "\n",
       "    .dataframe thead th {\n",
       "        text-align: right;\n",
       "    }\n",
       "</style>\n",
       "<table border=\"1\" class=\"dataframe\">\n",
       "  <thead>\n",
       "    <tr style=\"text-align: right;\">\n",
       "      <th></th>\n",
       "      <th>Alphabets</th>\n",
       "      <th>Class_0</th>\n",
       "      <th>Class_1</th>\n",
       "    </tr>\n",
       "  </thead>\n",
       "  <tbody>\n",
       "    <tr>\n",
       "      <th>0</th>\n",
       "      <td>A</td>\n",
       "      <td>95.133506</td>\n",
       "      <td>4.866494</td>\n",
       "    </tr>\n",
       "    <tr>\n",
       "      <th>1</th>\n",
       "      <td>C</td>\n",
       "      <td>100.000000</td>\n",
       "      <td>0.000000</td>\n",
       "    </tr>\n",
       "    <tr>\n",
       "      <th>2</th>\n",
       "      <td>D</td>\n",
       "      <td>94.391304</td>\n",
       "      <td>5.608696</td>\n",
       "    </tr>\n",
       "    <tr>\n",
       "      <th>3</th>\n",
       "      <td>E</td>\n",
       "      <td>93.928706</td>\n",
       "      <td>6.071294</td>\n",
       "    </tr>\n",
       "    <tr>\n",
       "      <th>4</th>\n",
       "      <td>F</td>\n",
       "      <td>99.619338</td>\n",
       "      <td>0.380662</td>\n",
       "    </tr>\n",
       "    <tr>\n",
       "      <th>5</th>\n",
       "      <td>G</td>\n",
       "      <td>98.383838</td>\n",
       "      <td>1.616162</td>\n",
       "    </tr>\n",
       "    <tr>\n",
       "      <th>6</th>\n",
       "      <td>H</td>\n",
       "      <td>98.298573</td>\n",
       "      <td>1.701427</td>\n",
       "    </tr>\n",
       "    <tr>\n",
       "      <th>7</th>\n",
       "      <td>I</td>\n",
       "      <td>96.910875</td>\n",
       "      <td>3.089125</td>\n",
       "    </tr>\n",
       "    <tr>\n",
       "      <th>8</th>\n",
       "      <td>K</td>\n",
       "      <td>94.763978</td>\n",
       "      <td>5.236022</td>\n",
       "    </tr>\n",
       "    <tr>\n",
       "      <th>9</th>\n",
       "      <td>L</td>\n",
       "      <td>95.824251</td>\n",
       "      <td>4.175749</td>\n",
       "    </tr>\n",
       "    <tr>\n",
       "      <th>10</th>\n",
       "      <td>M</td>\n",
       "      <td>97.404580</td>\n",
       "      <td>2.595420</td>\n",
       "    </tr>\n",
       "    <tr>\n",
       "      <th>11</th>\n",
       "      <td>N</td>\n",
       "      <td>96.776584</td>\n",
       "      <td>3.223416</td>\n",
       "    </tr>\n",
       "    <tr>\n",
       "      <th>12</th>\n",
       "      <td>P</td>\n",
       "      <td>97.488639</td>\n",
       "      <td>2.511361</td>\n",
       "    </tr>\n",
       "    <tr>\n",
       "      <th>13</th>\n",
       "      <td>Q</td>\n",
       "      <td>94.825229</td>\n",
       "      <td>5.174771</td>\n",
       "    </tr>\n",
       "    <tr>\n",
       "      <th>14</th>\n",
       "      <td>R</td>\n",
       "      <td>92.703583</td>\n",
       "      <td>7.296417</td>\n",
       "    </tr>\n",
       "    <tr>\n",
       "      <th>15</th>\n",
       "      <td>S</td>\n",
       "      <td>95.837513</td>\n",
       "      <td>4.162487</td>\n",
       "    </tr>\n",
       "    <tr>\n",
       "      <th>16</th>\n",
       "      <td>T</td>\n",
       "      <td>96.115049</td>\n",
       "      <td>3.884951</td>\n",
       "    </tr>\n",
       "    <tr>\n",
       "      <th>17</th>\n",
       "      <td>V</td>\n",
       "      <td>98.206504</td>\n",
       "      <td>1.793496</td>\n",
       "    </tr>\n",
       "    <tr>\n",
       "      <th>18</th>\n",
       "      <td>W</td>\n",
       "      <td>98.703404</td>\n",
       "      <td>1.296596</td>\n",
       "    </tr>\n",
       "    <tr>\n",
       "      <th>19</th>\n",
       "      <td>Y</td>\n",
       "      <td>98.865911</td>\n",
       "      <td>1.134089</td>\n",
       "    </tr>\n",
       "  </tbody>\n",
       "</table>\n",
       "</div>"
      ],
      "text/plain": [
       "   Alphabets     Class_0   Class_1\n",
       "0          A   95.133506  4.866494\n",
       "1          C  100.000000  0.000000\n",
       "2          D   94.391304  5.608696\n",
       "3          E   93.928706  6.071294\n",
       "4          F   99.619338  0.380662\n",
       "5          G   98.383838  1.616162\n",
       "6          H   98.298573  1.701427\n",
       "7          I   96.910875  3.089125\n",
       "8          K   94.763978  5.236022\n",
       "9          L   95.824251  4.175749\n",
       "10         M   97.404580  2.595420\n",
       "11         N   96.776584  3.223416\n",
       "12         P   97.488639  2.511361\n",
       "13         Q   94.825229  5.174771\n",
       "14         R   92.703583  7.296417\n",
       "15         S   95.837513  4.162487\n",
       "16         T   96.115049  3.884951\n",
       "17         V   98.206504  1.793496\n",
       "18         W   98.703404  1.296596\n",
       "19         Y   98.865911  1.134089"
      ]
     },
     "execution_count": 18,
     "metadata": {},
     "output_type": "execute_result"
    }
   ],
   "source": [
    "def x_total(x):\n",
    "    return prot_epit[\"epit_seq\"].str.count(x).sum() # [23]\n",
    "\n",
    "wad = prot_epit.groupby([\"class\"])[\"epit_seq\"].sum() # [10]\n",
    "def let_perc(x):\n",
    "    return wad.str.count(x)*100\n",
    "\n",
    "def find_perc(x):\n",
    "    return let_perc(x)/x_total(x)\n",
    "\n",
    "list_of_alphabets = [\"A\",\"C\", \"D\", \"E\", \"F\", \"G\", \"H\", \"I\", \"K\", \"L\", \"M\", \"N\", \"P\", \"Q\", \"R\", \"S\", \"T\", \"V\", \"W\", \"Y\" ]\n",
    "perc_o = []\n",
    "perc_i = []\n",
    "for j in list_of_alphabets:\n",
    "    x = find_perc(j)\n",
    "    perc_o.append(x[0])\n",
    "    perc_i.append(x[1])\n",
    "df = pd.DataFrame(list(zip(list_of_alphabets, perc_o, perc_i)), columns = [\"Alphabets\", \"Class_0\", \"Class_1\"]) # [11]\n",
    "df"
   ]
  },
  {
   "cell_type": "code",
   "execution_count": 19,
   "id": "6366c94e",
   "metadata": {},
   "outputs": [
    {
     "data": {
      "image/png": "[encoded data removed]",
      "text/plain": [
       "<Figure size 1008x720 with 1 Axes>"
      ]
     },
     "metadata": {},
     "output_type": "display_data"
    }
   ],
   "source": [
    "df.plot(\"Alphabets\", [\"Class_0\", \"Class_1\"], figsize = (14, 10), kind = \"bar\")   \n",
    "plt.style.use(\"seaborn-poster\") # [21]\n",
    "plt.ylabel(\"Frequencies of each aminoacid letter in class 0 v/s class 1\")\n",
    "plt.xlabel(\"Letters\")\n",
    "plt.xticks(rotation=0) \n",
    "plt.show()"
   ]
  },
  {
   "cell_type": "markdown",
   "id": "41e12d58",
   "metadata": {},
   "source": [
    "[10], [11], [23], [21]"
   ]
  },
  {
   "cell_type": "markdown",
   "id": "7eea381b",
   "metadata": {},
   "source": [
    "For the last part of M5, multiple steps are involved. \n",
    "First, we count the total number of occurances for each letter in the the column epit_seq. Then we sort the occurances according to their classes i.e 0 or 1.\n",
    "We get 2 strings belonging to classes 0 and 1. Now we count the total number of occurances of each letter in the strings followed by finding out how many of them belong to classes 0 and 1. Once we obtain it, we divide it by total number of occurances to obtain the fraction of each alphabet in each class. Once we get all these data, we construct a new dataframe with all the values procured i.e the percentage of alphabets belonging to each class.\n",
    "Now we plot the graph using the dataframe and matplot library.\n",
    "What we see in the graph is that the number of observatiobns belonging to class 0 is about 8 times more than the ones belonging to class 1. So there is a huge class imbalance which needs to be rectified."
   ]
  },
  {
   "cell_type": "markdown",
   "id": "1a6eda1c",
   "metadata": {},
   "source": [
    "# M6 \n",
    "### Based on the resulting data set of (M1)-(M3), assemble an expanded data set, such that each aminoacid of  each epitope sequence is represented in an individual row. This expanded data set must have a new variable called AA_window , containing a substring of length 15 centred on the specific aminoacid.\n",
    "### Report the dimension of the data after each step.\n"
   ]
  },
  {
   "cell_type": "markdown",
   "id": "4454bdf3",
   "metadata": {},
   "source": [
    "Here, we need to assemble an expanded dataset such that every amino acid of each epitope sequence gets an individual row. So we need to make a new column which gives seperate rows for each aminoacid while containing a substring of length 15 centred on the specific aminoacid."
   ]
  },
  {
   "cell_type": "code",
   "execution_count": 20,
   "id": "98ff49af",
   "metadata": {},
   "outputs": [
    {
     "data": {
      "text/plain": [
       "(102659, 31)"
      ]
     },
     "execution_count": 20,
     "metadata": {},
     "output_type": "execute_result"
    }
   ],
   "source": [
    "prot_epit[\"AA_position\"] = prot_epit.apply(lambda x: list(range(x['start_pos'], x['end_pos']+1)), axis = 1) # [5]\n",
    "df = prot_epit.explode(\"AA_position\").reset_index(drop = True) # [24]\n",
    "df.shape #expanded dataset"
   ]
  },
  {
   "cell_type": "markdown",
   "id": "4a1be635",
   "metadata": {},
   "source": [
    "[5], [24]"
   ]
  },
  {
   "cell_type": "code",
   "execution_count": 21,
   "id": "1b0aab1d",
   "metadata": {},
   "outputs": [
    {
     "data": {
      "text/plain": [
       "(102659, 5)"
      ]
     },
     "execution_count": 21,
     "metadata": {},
     "output_type": "execute_result"
    }
   ],
   "source": [
    "df[['start_pos', \"end_pos\", \"AA_position\", \"TSeq_sequence\"]]   \n",
    "df[\"new_start_pos\"] = df[\"AA_position\"]-8\n",
    "df[\"new_end_pos\"] = df[\"AA_position\"]+7\n",
    "window = []\n",
    "for i in df.index:\n",
    "    a = df.iloc[i][\"new_start_pos\"]\n",
    "    b = df.iloc[i][\"new_end_pos\"]\n",
    "    c = df.iloc[i][\"TSeq_sequence\"][a:b]\n",
    "    window.append(c)\n",
    "df[\"AA_window\"] = window\n",
    "m6 = df[[\"protein_id\", \"epitope_id\", \"AA_position\", \"AA_window\", \"class\"]]\n",
    "m6.shape"
   ]
  },
  {
   "cell_type": "markdown",
   "id": "a1092b78",
   "metadata": {},
   "source": [
    "Here, we assemble an expanded dataset by applying the functions over the entire table using lambda function, such that each aminoacid of every epitope sequence is represented by an indvidual row. Then we created new rows for new start and end positions such that the AA_position is at a distance of 7 units from both the ends. After that we create a sequence from TSeq_sequence such that AA_position is at dead centre and thus we obtain AA_window using new start and end positions.  [5]\n",
    "After the explosion, the number of observations expanded so many times. Now we have almost twice the amount of rows we initially had."
   ]
  },
  {
   "cell_type": "markdown",
   "id": "6ce15d3b",
   "metadata": {},
   "source": [
    "# S1\n",
    "### Report the class imbalance of the expanded data set. To deal with this class imbalance you must keep all ‘positive class’ observations and randomly select 1.5*num_positive number of ‘negative class’ observations from the expanded data set; where num_positive is the number of positive observations.Report the dimension of the data after each step."
   ]
  },
  {
   "cell_type": "markdown",
   "id": "02a8ce71",
   "metadata": {},
   "source": [
    "First we need to group dataset m6 according to the class of each entry. We find out that the number of entries with class 0 is approximtely 8 times higher that the number of entries with class 1 which makes m6 a highly unstable dataset. We need to randomly delete a large number of entries which belong to class 0 so that we are left with only negative classs entries which are merely 1.5 times the number of positive class entries."
   ]
  },
  {
   "cell_type": "code",
   "execution_count": 22,
   "id": "61aac410",
   "metadata": {},
   "outputs": [
    {
     "data": {
      "text/plain": [
       "(10250, 5)"
      ]
     },
     "execution_count": 22,
     "metadata": {},
     "output_type": "execute_result"
    }
   ],
   "source": [
    "m6.groupby(\"class\")\n",
    "num_positive = 0\n",
    "for i in m6[\"class\"]:\n",
    "    if i == 1:\n",
    "        num_positive+=1\n",
    "# randomly select 6150 random observations\n",
    "neg = m6[m6[\"class\"]==0]\n",
    "np.random.seed(10)\n",
    "remove_n = 92409\n",
    "for k in neg:\n",
    "    drop_indices = np.random.choice(m6.index, remove_n, replace=False)  # [7]\n",
    "s1 = m6.drop(drop_indices)\n",
    "s1.shape"
   ]
  },
  {
   "cell_type": "markdown",
   "id": "a694290b",
   "metadata": {},
   "source": [
    "[07]"
   ]
  },
  {
   "cell_type": "markdown",
   "id": "7af3b312",
   "metadata": {},
   "source": [
    "In the expanded dataset we have 4100 observations where class is positive whereas 98,559 observations belongs to the negative class. Here we need to select 4100 * 1.5 i.e 6150 observations which belong to negative class and keep them along with the positive class observations in the expanded dataset. Thus we remove 92409 negative observations. The dimensions of the dataset are reduced to 10250 rows and 5 columns."
   ]
  },
  {
   "cell_type": "markdown",
   "id": "93842081",
   "metadata": {},
   "source": [
    "# S2\n",
    "### Calculation of features related to the letters in the AA_window sequences calculated in (M5):\n",
    "#### - 20 features for the frequency of each individual letter;\n",
    "#### - 400 features related to the frequency of each possible pair of letters"
   ]
  },
  {
   "cell_type": "markdown",
   "id": "2bdb425b",
   "metadata": {},
   "source": [
    "We need the count of every letter in each entry of AA_window. So we need to construct 20 columns each counting the no of occcurances of those letters in every row of AA_window. Additionally, we need to count the pairs of letters in each row. So we need 400 more columns to record that."
   ]
  },
  {
   "cell_type": "code",
   "execution_count": 23,
   "id": "85b99367",
   "metadata": {},
   "outputs": [
    {
     "data": {
      "text/plain": [
       "(102659, 425)"
      ]
     },
     "execution_count": 23,
     "metadata": {},
     "output_type": "execute_result"
    }
   ],
   "source": [
    "for b in list_of_alphabets:\n",
    "    m6[b] = m6.AA_window.str.count(b)/15   # [12]\n",
    "new_columns = []\n",
    "for x in range(len(list_of_alphabets)):\n",
    "    for z in range(len(list_of_alphabets)):\n",
    "        str = list_of_alphabets[x]+list_of_alphabets[z]\n",
    "        new_columns.append(str) \n",
    "\n",
    "import re\n",
    "for i in new_columns:\n",
    "    m6[i] = m6.AA_window.str.count(i, re.I)/14  # [8]\n",
    "m6.shape"
   ]
  },
  {
   "cell_type": "markdown",
   "id": "097fc42f",
   "metadata": {},
   "source": [
    "[12], [8]"
   ]
  },
  {
   "cell_type": "markdown",
   "id": "f0f1c24b",
   "metadata": {},
   "source": [
    "We calculatd 20 features for the frequency of each individual letter by iterating through AA_window and counting the occurance of each letter; then dividing it by 15 to obtain the fraction.\n",
    "For the second part, we make all the possible combinations of letters that is needed; store them in a list and then use regex(for matching) to do the same thing that we did in this question's first part. Only change here is that we divide the resultant by 14.\n",
    "Counting the letters individually leads to the formation of 20 columns while for the pair of letters, we needed 400 columns to record their respective counts."
   ]
  },
  {
   "cell_type": "markdown",
   "id": "f9fd0354",
   "metadata": {},
   "source": [
    "# S3\n",
    "###  Splitting of the expanded dataset into training (80%) and testing (20%) set based on the protein_id value (i.e., all epitopes with the same protein_id should be under the same split) after M5."
   ]
  },
  {
   "cell_type": "markdown",
   "id": "dd126977",
   "metadata": {},
   "source": [
    "Here we need to figure out a way to split the dataset we obtained in m6 into training and testing sets based on protein_id value. We will to apply GroupShuffleSplit while trying to specify test__size and the column we need to split on. We need to find out the percentage of data available in training and test datasets too."
   ]
  },
  {
   "cell_type": "code",
   "execution_count": 24,
   "id": "c3c9bd5c",
   "metadata": {},
   "outputs": [
    {
     "data": {
      "text/plain": [
       "[80.43912370079583, 19.56087629920416]"
      ]
     },
     "execution_count": 24,
     "metadata": {},
     "output_type": "execute_result"
    }
   ],
   "source": [
    "s3 = m6[\"protein_id\"]\n",
    "from collections import Counter\n",
    "frequency = Counter(s3)   # [8] \n",
    "from sklearn.model_selection import GroupShuffleSplit    # [17]\n",
    "train_in, test_in = next(GroupShuffleSplit(test_size = 0.20, random_state = 63).split(m6, groups = m6[\"protein_id\"]))\n",
    "train = m6.iloc[train_in]\n",
    "test = m6.iloc[test_in]\n",
    "train_perc = train.size/m6.size\n",
    "test_perc = test.size/m6.size\n",
    "arr = [train_perc*100, test_perc*100]\n",
    "arr"
   ]
  },
  {
   "cell_type": "markdown",
   "id": "7b452f08",
   "metadata": {},
   "source": [
    "[8], [17]"
   ]
  },
  {
   "cell_type": "markdown",
   "id": "bdaf933d",
   "metadata": {},
   "source": [
    "Conclusion for S3: Here we are required to keep all the epitopes with same protein_id in the same dataset i.e all of them should be in either test set or all of them should be in training dataset. To follow this order, we use GroupShuffleSplit. It is an Out cross-validation iterator which provides randomized train/test indices to split data according to the conditions set forth by a third-party. This group information can be used to encode arbitrary domain specific stratifications of the samples as integers. GroupShuffleSplit generates a user-determined number of random test splits, each with a user-determined fraction of unique groups.\n",
    "Here we allocate variables to test data and train data seperately and then we find out the percentage of each after splitting and running the machine learning model."
   ]
  },
  {
   "cell_type": "code",
   "execution_count": 25,
   "id": "6783f4b6",
   "metadata": {},
   "outputs": [
    {
     "data": {
      "text/plain": [
       "35095650"
      ]
     },
     "execution_count": 25,
     "metadata": {},
     "output_type": "execute_result"
    }
   ],
   "source": [
    "train.size"
   ]
  },
  {
   "cell_type": "code",
   "execution_count": 26,
   "id": "207e1a8c",
   "metadata": {},
   "outputs": [
    {
     "data": {
      "text/plain": [
       "8534425"
      ]
     },
     "execution_count": 26,
     "metadata": {},
     "output_type": "execute_result"
    }
   ],
   "source": [
    "test.size"
   ]
  },
  {
   "cell_type": "markdown",
   "id": "a6353adb",
   "metadata": {},
   "source": [
    "We calcuate the percentage of original data present in test and train datasets and obtain the train:test ratio to be approx 80:20. And then we obtain the size for train and test datasets. Train has 2/3rds of the original size while test dataset consists of 1/3rd of the original dataset's size."
   ]
  },
  {
   "cell_type": "markdown",
   "id": "c3b3d957",
   "metadata": {},
   "source": [
    "# S4\n",
    "### Fit a classification model using the training set and report the model’s predictive performance. Note the model should only use 420 features from (S2) and the class labels.\n"
   ]
  },
  {
   "cell_type": "markdown",
   "id": "f8fc1e23",
   "metadata": {},
   "source": [
    "We can basically fit any classification model we want to, predict outcomes using the model and measure its accuracy to know how efficient it really is."
   ]
  },
  {
   "cell_type": "code",
   "execution_count": 27,
   "id": "d81a29f0",
   "metadata": {},
   "outputs": [
    {
     "data": {
      "text/plain": [
       "0.9795349963671591"
      ]
     },
     "execution_count": 27,
     "metadata": {},
     "output_type": "execute_result"
    }
   ],
   "source": [
    "# Import necessary modules\n",
    "from sklearn.neighbors import KNeighborsClassifier\n",
    "from sklearn.model_selection import train_test_split\n",
    "y = train[\"class\"].values\n",
    "X = train.drop([\"class\", \"epitope_id\", \"AA_position\", \"AA_window\", \"protein_id\"], axis = 1).values\n",
    "\n",
    "# set the data into training and test sets\n",
    "X_train, X_test, y_train, y_test = train_test_split(X, y, random_state = 96, test_size = 0.2)\n",
    "knn = KNeighborsClassifier(n_neighbors=7) \n",
    " \n",
    "knn.fit(X_train, y_train) \n",
    "\n",
    "# Predict on dataset whose model has not been seen before\n",
    "knn.predict(X_train)  \n",
    "\n",
    "# Measure accuracy of the model\n",
    "knn.score(X_test, y_test)  "
   ]
  },
  {
   "cell_type": "markdown",
   "id": "35bff9e8",
   "metadata": {},
   "source": [
    "[09]"
   ]
  },
  {
   "cell_type": "markdown",
   "id": "816b24ae",
   "metadata": {},
   "source": [
    "Here, we use the training and test datasets obtained in S3. First we drop the columns as required; then we assign it to training and test sets. We predict on the model using knn classifier after fitting it. We measure the accuracy of the model using score. The knn algorithm is 97.9535% accurate."
   ]
  },
  {
   "cell_type": "markdown",
   "id": "afbbe56a",
   "metadata": {},
   "source": [
    "# C1\n",
    "### Calculate additional features after (S1):\n",
    "### Shannon entropy of AA_window.\n",
    "### - TMM and MHI of AA_window.[Note: TMM is calculated as the weighted sum of the letter counts in AA_window, with weights being given by column Molecular mass (Da) in the table provided in the footnote. MHI is calculated as the weighted arithmetic mean of the letter counts in AA_window, with weights being given by column Hydropathy index in the table provided on the footnote.]\n",
    "### Total number of Carbon, Hydrogen, Oxygen, Nitrogen and Sulphur atoms in AA_window. [Note: this is calculated as a weighted sum of the count of each letter in AA_window, with the weight of each letter being given by the respective column in the table provided]"
   ]
  },
  {
   "cell_type": "markdown",
   "id": "9f5d188f",
   "metadata": {},
   "source": [
    "This question has 2 parts. First, we make a function to find shannon entropy [06] and then introduce a column for the same."
   ]
  },
  {
   "cell_type": "code",
   "execution_count": 28,
   "id": "76ccad83",
   "metadata": {},
   "outputs": [
    {
     "data": {
      "text/html": [
       "<div>\n",
       "<style scoped>\n",
       "    .dataframe tbody tr th:only-of-type {\n",
       "        vertical-align: middle;\n",
       "    }\n",
       "\n",
       "    .dataframe tbody tr th {\n",
       "        vertical-align: top;\n",
       "    }\n",
       "\n",
       "    .dataframe thead th {\n",
       "        text-align: right;\n",
       "    }\n",
       "</style>\n",
       "<table border=\"1\" class=\"dataframe\">\n",
       "  <thead>\n",
       "    <tr style=\"text-align: right;\">\n",
       "      <th></th>\n",
       "      <th>protein_id</th>\n",
       "      <th>epitope_id</th>\n",
       "      <th>AA_position</th>\n",
       "      <th>AA_window</th>\n",
       "      <th>class</th>\n",
       "      <th>shannon_entropy</th>\n",
       "    </tr>\n",
       "  </thead>\n",
       "  <tbody>\n",
       "    <tr>\n",
       "      <th>1</th>\n",
       "      <td>AAB20743.1</td>\n",
       "      <td>114463</td>\n",
       "      <td>43</td>\n",
       "      <td>KFFEIDLTSRPAHGG</td>\n",
       "      <td>1</td>\n",
       "      <td>2.523211</td>\n",
       "    </tr>\n",
       "    <tr>\n",
       "      <th>11</th>\n",
       "      <td>AAK33481.1</td>\n",
       "      <td>511327</td>\n",
       "      <td>17</td>\n",
       "      <td>VTSVALSLVPLATAQ</td>\n",
       "      <td>0</td>\n",
       "      <td>1.864044</td>\n",
       "    </tr>\n",
       "    <tr>\n",
       "      <th>21</th>\n",
       "      <td>AAK33481.1</td>\n",
       "      <td>511327</td>\n",
       "      <td>27</td>\n",
       "      <td>LATAQAQEWTPRSVT</td>\n",
       "      <td>0</td>\n",
       "      <td>2.176186</td>\n",
       "    </tr>\n",
       "    <tr>\n",
       "      <th>24</th>\n",
       "      <td>AAK33481.1</td>\n",
       "      <td>511425</td>\n",
       "      <td>92</td>\n",
       "      <td>PDTILTANYNQHGQA</td>\n",
       "      <td>0</td>\n",
       "      <td>2.338372</td>\n",
       "    </tr>\n",
       "    <tr>\n",
       "      <th>32</th>\n",
       "      <td>AAK33481.1</td>\n",
       "      <td>511425</td>\n",
       "      <td>100</td>\n",
       "      <td>YNQHGQATNLTVQAP</td>\n",
       "      <td>0</td>\n",
       "      <td>2.211069</td>\n",
       "    </tr>\n",
       "  </tbody>\n",
       "</table>\n",
       "</div>"
      ],
      "text/plain": [
       "    protein_id  epitope_id AA_position        AA_window  class  \\\n",
       "1   AAB20743.1      114463          43  KFFEIDLTSRPAHGG      1   \n",
       "11  AAK33481.1      511327          17  VTSVALSLVPLATAQ      0   \n",
       "21  AAK33481.1      511327          27  LATAQAQEWTPRSVT      0   \n",
       "24  AAK33481.1      511425          92  PDTILTANYNQHGQA      0   \n",
       "32  AAK33481.1      511425         100  YNQHGQATNLTVQAP      0   \n",
       "\n",
       "    shannon_entropy  \n",
       "1          2.523211  \n",
       "11         1.864044  \n",
       "21         2.176186  \n",
       "24         2.338372  \n",
       "32         2.211069  "
      ]
     },
     "execution_count": 28,
     "metadata": {},
     "output_type": "execute_result"
    }
   ],
   "source": [
    "import math\n",
    "from collections import Counter\n",
    "\n",
    "def eta(data, unit='natural'):\n",
    "    base = {\n",
    "        'shannon' : 2.,\n",
    "        'natural' : math.exp(1),\n",
    "        'hartley' : 10.\n",
    "    }\n",
    "\n",
    "    if len(data) <= 1:\n",
    "        return 0\n",
    "\n",
    "    counts = Counter()\n",
    "\n",
    "    for d in data:\n",
    "        counts[d] += 1\n",
    "\n",
    "    ent = 0\n",
    "\n",
    "    probs = [float(c) / len(data) for c in counts.values()]\n",
    "    for p in probs:\n",
    "        if p > 0.:\n",
    "            ent -= p * math.log(p, base[unit])\n",
    "\n",
    "    return ent # [24]\n",
    "dna_sequence = s1[\"AA_window\"]\n",
    "x = []\n",
    "for i in dna_sequence:\n",
    "    x.append(eta(i))\n",
    "s1[\"shannon_entropy\"]  = x\n",
    "s1.head()"
   ]
  },
  {
   "cell_type": "markdown",
   "id": "9730ad21",
   "metadata": {},
   "source": [
    "We need to go through each string in the AA_window and calculate the prior probability to use it to find shannon entropy.\n",
    "Here eta is the function which outputs shannon entropy of the column AA_window. We record the shannon entropies of all the entries in the AA_windows in an empty list x, and then assign this list to a new column called shannon entropy in the table s1."
   ]
  },
  {
   "cell_type": "markdown",
   "id": "08eaa549",
   "metadata": {},
   "source": [
    "For the next part we first hardcode the entire table then construct dictionaries out of the necessary columns to draw new conclusions.(I have no idea why I made the dataframes. The tables aren't required, the columns are.) The process is similar to how we calculated the shannon entropy of AA_window.   [22]"
   ]
  },
  {
   "cell_type": "code",
   "execution_count": 29,
   "id": "7b6d49b5",
   "metadata": {
    "scrolled": true
   },
   "outputs": [],
   "source": [
    "amino_acid = [\"Alanine\", \"Arginine\", \"Asparagine\", \"Aspartic acid\", \"Cysteine\", \"Glutamine\", \"Glutamic Acid\", \"Glycine\", \"Histidine\", \"Isoleucine\", \"Leucine\", \"Lysine\", \"Methionine\", \"Phenylalanine\", \"Proline\", \"Serine\", \"Threonine\", \"Tryptophan\", \"Tyrosine\", \"Valine\"]\n",
    "abbreviations = [\"A\", \"R\", \"N\", \"D\", \"C\", \"Q\", \"E\", \"G\", \"H\", \"I\", \"L\", \"K\", \"M\", \"F\", \"P\", \"S\", \"T\", \"W\", \"Y\", \"V\"]\n",
    "molecular_mass = [89, 174, 132, 133, 121, 146, 147, 75, 155, 131, 131, 146, 149, 165, 115, 105, 119, 204, 181, 117]\n",
    "no_of_atoms = [13, 26, 17, 16, 14, 20, 19, 10, 20, 22, 22, 24, 20, 23, 17, 14, 17, 27, 24, 19]\n",
    "volume = [88.6, 173.4, 114.1, 111.1, 108.5, 143.8, 138.4, 60.1, 153.2, 166.7, 166.7, 168.6, 162.9, 189.9, 112.7, 89.0, 116.1, 227.8, 193.6, 140.0]\n",
    "hydropathy_index = [1.8, -4.5, -3.5, -3.5, 2.5, -3.5, -3.5, -0.4, -3.2, 4.5, 3.8, -3.9, 1.9, 2.8, -1.6, -0.8, -0.7, -0.9, -1.3, 4.2]\n",
    "df_helper1 = pd.DataFrame(list(zip(amino_acid, abbreviations, molecular_mass, no_of_atoms, volume, hydropathy_index)), columns = [\"Amino Acid\", \"Abbreviations\", \"Molecular Mass (DA)\", \"Number Of Atoms\", \"Volume\", \"Hydropathy Index\"])"
   ]
  },
  {
   "cell_type": "code",
   "execution_count": 30,
   "id": "980261b6",
   "metadata": {},
   "outputs": [],
   "source": [
    "d = {abbreviations[i]: molecular_mass[i] for i in range(len(abbreviations))}\n",
    "\n",
    "a = [i for i in s1[\"AA_window\"]]\n",
    "def sum_window(z):\n",
    "    x  = [d[j] for j in z]\n",
    "    sum = 0\n",
    "    for i in x:\n",
    "        sum += i\n",
    "    return sum\n",
    "b = [sum_window(k) for k in a]\n",
    "s1[\"tmm\"] = b"
   ]
  },
  {
   "cell_type": "markdown",
   "id": "c7bf8f80",
   "metadata": {},
   "source": [
    "What we did here is first hardcode the entire table which was provided in the link attatched to the assignment. We were required to traverse each string of AA_window and calcualte the sum according to the number associated with every letter. So we make a dictionary d here which contains molecular masses and the abbreviations. i.e the columns required in this question.\n",
    "After this we make a list which contains all the entries of AA_window so that it could be incorporated into a function where we add the numbers associated with each letter. We run this function through the entire column of AA_window and store the resultant list in a variable. Then we assign this variable into a brand new row called tmm which belongs to table s1."
   ]
  },
  {
   "cell_type": "code",
   "execution_count": 31,
   "id": "64254348",
   "metadata": {},
   "outputs": [],
   "source": [
    "d = {abbreviations[i]: hydropathy_index[i] for i in range(len(abbreviations))}\n",
    "\n",
    "a = [i for i in s1[\"AA_window\"]]\n",
    "def mean_window(z):\n",
    "    x  = [d[j] for j in z]\n",
    "    sum = 0\n",
    "    for i in x:\n",
    "        sum += i\n",
    "    return sum/len(z)\n",
    "b = [mean_window(k) for k in a]\n",
    "s1[\"mhi\"] = b"
   ]
  },
  {
   "cell_type": "markdown",
   "id": "490e6fe1",
   "metadata": {},
   "source": [
    "What we did for tmm, we do exactly the same stuff and apply exactly the same logic for rest of the parts of this question(in addition to dividing the result by the length of the string for mhi). Also we make different dictionaries for abbreviations and columns as required here. And yes, we hardcode a table for all the elements too."
   ]
  },
  {
   "cell_type": "code",
   "execution_count": 32,
   "id": "1c0fba62",
   "metadata": {},
   "outputs": [],
   "source": [
    "AA_Code = [\"A\",\"C\", \"D\", \"E\", \"F\", \"G\", \"H\", \"I\", \"K\", \"L\", \"M\", \"N\", \"P\", \"Q\", \"R\", \"S\", \"T\", \"V\", \"W\", \"Y\"]\n",
    "Carbon = [3, 3, 4, 5, 9, 2, 6, 6, 6, 6, 5, 4, 5, 5, 6, 3, 4, 5, 11, 9]\n",
    "Hydrogen = [7, 7, 7, 9, 11, 5, 9, 13, 14, 13, 11, 8, 9, 10, 14, 7, 9, 11, 12, 11]\n",
    "Nitrogen = [ 1, 1, 1, 1, 1, 1, 3, 1, 2, 1, 1, 2, 1, 2, 4, 1, 1, 1, 2, 1]\n",
    "Oxygen = [ 2, 2, 4, 4, 2, 2, 2, 2, 2, 2, 2, 3, 2, 3, 2, 3, 3, 2, 2, 3]\n",
    "Sulphur = [ 0, 1, 0, 0, 0, 0, 0, 0, 0, 0, 1, 0, 0, 0, 0, 0, 0, 0, 0, 0]\n",
    "df_helper2 = pd.DataFrame(list(zip(AA_Code, Carbon, Hydrogen, Nitrogen, Oxygen, Sulphur)), columns = [\"AA Code\", \"Carbon\", \"Hydrogen\", \"Nitrogen\", \"Oxygen\", \"Sulphur\"])"
   ]
  },
  {
   "cell_type": "code",
   "execution_count": 33,
   "id": "d256db73",
   "metadata": {},
   "outputs": [],
   "source": [
    "d = {AA_Code[i]: Carbon[i] for i in range(len(AA_Code))} \n",
    "\n",
    "a = [i for i in s1[\"AA_window\"]]\n",
    "def sum_window(z):\n",
    "    x  = [d[j] for j in z]\n",
    "    sum = 0\n",
    "    for i in x:\n",
    "        sum += i\n",
    "    return sum\n",
    "b = [sum_window(k) for k in a]\n",
    "s1[\"Carbon content\"] = b"
   ]
  },
  {
   "cell_type": "code",
   "execution_count": 34,
   "id": "8ab7fbd0",
   "metadata": {},
   "outputs": [],
   "source": [
    "d = {AA_Code[i]: Hydrogen[i] for i in range(len(AA_Code))} \n",
    "\n",
    "a = [i for i in s1[\"AA_window\"]]\n",
    "def sum_window(z):\n",
    "    x  = [d[j] for j in z]\n",
    "    sum = 0\n",
    "    for i in x:\n",
    "        sum += i\n",
    "    return sum\n",
    "b = [sum_window(k) for k in a]\n",
    "s1[\"Hydrogen content\"] = b"
   ]
  },
  {
   "cell_type": "code",
   "execution_count": 35,
   "id": "42dd3f1b",
   "metadata": {},
   "outputs": [],
   "source": [
    "d = {AA_Code[i]: Nitrogen[i] for i in range(len(AA_Code))}  \n",
    "\n",
    "a = [i for i in s1[\"AA_window\"]]\n",
    "def sum_window(z):\n",
    "    x  = [d[j] for j in z]\n",
    "    sum = 0\n",
    "    for i in x:\n",
    "        sum += i\n",
    "    return sum\n",
    "b = [sum_window(k) for k in a]\n",
    "s1[\"Nitrogen content\"] = b"
   ]
  },
  {
   "cell_type": "code",
   "execution_count": 36,
   "id": "a3cc863d",
   "metadata": {},
   "outputs": [],
   "source": [
    "d = {AA_Code[i]: Oxygen[i] for i in range(len(AA_Code))} \n",
    "\n",
    "a = [i for i in s1[\"AA_window\"]]\n",
    "def sum_window(z):\n",
    "    x  = [d[j] for j in z]\n",
    "    sum = 0\n",
    "    for i in x:\n",
    "        sum += i\n",
    "    return sum\n",
    "b = [sum_window(k) for k in a]\n",
    "s1[\"Oxygen content\"] = b"
   ]
  },
  {
   "cell_type": "code",
   "execution_count": 37,
   "id": "ddf35a46",
   "metadata": {},
   "outputs": [
    {
     "data": {
      "text/html": [
       "<div>\n",
       "<style scoped>\n",
       "    .dataframe tbody tr th:only-of-type {\n",
       "        vertical-align: middle;\n",
       "    }\n",
       "\n",
       "    .dataframe tbody tr th {\n",
       "        vertical-align: top;\n",
       "    }\n",
       "\n",
       "    .dataframe thead th {\n",
       "        text-align: right;\n",
       "    }\n",
       "</style>\n",
       "<table border=\"1\" class=\"dataframe\">\n",
       "  <thead>\n",
       "    <tr style=\"text-align: right;\">\n",
       "      <th></th>\n",
       "      <th>protein_id</th>\n",
       "      <th>epitope_id</th>\n",
       "      <th>AA_position</th>\n",
       "      <th>AA_window</th>\n",
       "      <th>class</th>\n",
       "      <th>shannon_entropy</th>\n",
       "      <th>tmm</th>\n",
       "      <th>mhi</th>\n",
       "      <th>Carbon content</th>\n",
       "      <th>Hydrogen content</th>\n",
       "      <th>Nitrogen content</th>\n",
       "      <th>Oxygen content</th>\n",
       "      <th>Sulphur content</th>\n",
       "    </tr>\n",
       "  </thead>\n",
       "  <tbody>\n",
       "    <tr>\n",
       "      <th>1</th>\n",
       "      <td>AAB20743.1</td>\n",
       "      <td>114463</td>\n",
       "      <td>43</td>\n",
       "      <td>KFFEIDLTSRPAHGG</td>\n",
       "      <td>1</td>\n",
       "      <td>2.523211</td>\n",
       "      <td>1925</td>\n",
       "      <td>-0.453333</td>\n",
       "      <td>76</td>\n",
       "      <td>143</td>\n",
       "      <td>21</td>\n",
       "      <td>36</td>\n",
       "      <td>0</td>\n",
       "    </tr>\n",
       "    <tr>\n",
       "      <th>11</th>\n",
       "      <td>AAK33481.1</td>\n",
       "      <td>511327</td>\n",
       "      <td>17</td>\n",
       "      <td>VTSVALSLVPLATAQ</td>\n",
       "      <td>0</td>\n",
       "      <td>1.864044</td>\n",
       "      <td>1720</td>\n",
       "      <td>1.420000</td>\n",
       "      <td>66</td>\n",
       "      <td>144</td>\n",
       "      <td>16</td>\n",
       "      <td>35</td>\n",
       "      <td>0</td>\n",
       "    </tr>\n",
       "    <tr>\n",
       "      <th>21</th>\n",
       "      <td>AAK33481.1</td>\n",
       "      <td>511327</td>\n",
       "      <td>27</td>\n",
       "      <td>LATAQAQEWTPRSVT</td>\n",
       "      <td>0</td>\n",
       "      <td>2.176186</td>\n",
       "      <td>1909</td>\n",
       "      <td>-0.466667</td>\n",
       "      <td>72</td>\n",
       "      <td>143</td>\n",
       "      <td>21</td>\n",
       "      <td>38</td>\n",
       "      <td>0</td>\n",
       "    </tr>\n",
       "    <tr>\n",
       "      <th>24</th>\n",
       "      <td>AAK33481.1</td>\n",
       "      <td>511425</td>\n",
       "      <td>92</td>\n",
       "      <td>PDTILTANYNQHGQA</td>\n",
       "      <td>0</td>\n",
       "      <td>2.338372</td>\n",
       "      <td>1893</td>\n",
       "      <td>-0.900000</td>\n",
       "      <td>70</td>\n",
       "      <td>135</td>\n",
       "      <td>21</td>\n",
       "      <td>39</td>\n",
       "      <td>0</td>\n",
       "    </tr>\n",
       "    <tr>\n",
       "      <th>32</th>\n",
       "      <td>AAK33481.1</td>\n",
       "      <td>511425</td>\n",
       "      <td>100</td>\n",
       "      <td>YNQHGQATNLTVQAP</td>\n",
       "      <td>0</td>\n",
       "      <td>2.211069</td>\n",
       "      <td>1892</td>\n",
       "      <td>-0.920000</td>\n",
       "      <td>70</td>\n",
       "      <td>136</td>\n",
       "      <td>22</td>\n",
       "      <td>38</td>\n",
       "      <td>0</td>\n",
       "    </tr>\n",
       "  </tbody>\n",
       "</table>\n",
       "</div>"
      ],
      "text/plain": [
       "    protein_id  epitope_id AA_position        AA_window  class  \\\n",
       "1   AAB20743.1      114463          43  KFFEIDLTSRPAHGG      1   \n",
       "11  AAK33481.1      511327          17  VTSVALSLVPLATAQ      0   \n",
       "21  AAK33481.1      511327          27  LATAQAQEWTPRSVT      0   \n",
       "24  AAK33481.1      511425          92  PDTILTANYNQHGQA      0   \n",
       "32  AAK33481.1      511425         100  YNQHGQATNLTVQAP      0   \n",
       "\n",
       "    shannon_entropy   tmm       mhi  Carbon content  Hydrogen content  \\\n",
       "1          2.523211  1925 -0.453333              76               143   \n",
       "11         1.864044  1720  1.420000              66               144   \n",
       "21         2.176186  1909 -0.466667              72               143   \n",
       "24         2.338372  1893 -0.900000              70               135   \n",
       "32         2.211069  1892 -0.920000              70               136   \n",
       "\n",
       "    Nitrogen content  Oxygen content  Sulphur content  \n",
       "1                 21              36                0  \n",
       "11                16              35                0  \n",
       "21                21              38                0  \n",
       "24                21              39                0  \n",
       "32                22              38                0  "
      ]
     },
     "execution_count": 37,
     "metadata": {},
     "output_type": "execute_result"
    }
   ],
   "source": [
    "d = {AA_Code[i]: Sulphur[i] for i in range(len(AA_Code))}   \n",
    "\n",
    "a = [i for i in s1[\"AA_window\"]]\n",
    "def sum_window(z):\n",
    "    x  = [d[j] for j in z]\n",
    "    sum = 0\n",
    "    for i in x:\n",
    "        sum += i\n",
    "    return sum\n",
    "b = [sum_window(k) for k in a]\n",
    "s1[\"Sulphur content\"] = b\n",
    "s1.head()"
   ]
  },
  {
   "cell_type": "markdown",
   "id": "48d9f609",
   "metadata": {},
   "source": [
    "The same procedure is carried out for all the gaseous elements here as we did  for tmm. We simply make different dictionaries according to the molecules of gases we need to count. And keep on adding the columns to the s1 table."
   ]
  },
  {
   "cell_type": "markdown",
   "id": "d2f2a534",
   "metadata": {},
   "source": [
    "# C2\n",
    "### Develop only three high-quality visualisations of the main characteristics of the results from (C1)"
   ]
  },
  {
   "cell_type": "markdown",
   "id": "4aacd75a",
   "metadata": {},
   "source": [
    "We have to develop 3 visualisations using the new columns we added in the table S1. So, we will develop 3 different kinds of graphs plotting different pairs of columns against each other or plotting a column individually. [20], [19], [18], [16]"
   ]
  },
  {
   "cell_type": "code",
   "execution_count": 38,
   "id": "5dcdb8f6",
   "metadata": {},
   "outputs": [
    {
     "data": {
      "text/plain": [
       "Text(0, 0.5, 'Number of Molecules')"
      ]
     },
     "execution_count": 38,
     "metadata": {},
     "output_type": "execute_result"
    },
    {
     "data": {
      "image/png": "[encoded data removed]",
      "text/plain": [
       "<Figure size 1440x2880 with 1 Axes>"
      ]
     },
     "metadata": {},
     "output_type": "display_data"
    }
   ],
   "source": [
    "to_plot = pd.DataFrame({\"Carbon\": s1[\"Carbon content\"], \"Hydrogen\": s1[\"Hydrogen content\"], \"Nitrogen\": s1[\"Nitrogen content\"], \"Oxygen\": s1[\"Oxygen content\"], \"Sulphur\": s1[\"Sulphur content\"]})\n",
    "to_plot_melted = pd.melt(to_plot)\n",
    "fig = plt.figure(figsize = (20, 40))\n",
    "import seaborn as sns\n",
    "plt.style.use('bmh')\n",
    "sns.boxplot(x='variable', y='value', data=to_plot_melted, palette=\"Set3\")\n",
    "plt.xlabel(\"Molecules\")\n",
    "plt.ylabel(\"Number of Molecules\")"
   ]
  },
  {
   "cell_type": "markdown",
   "id": "ce70e53a",
   "metadata": {},
   "source": [
    "We develop a boxplot to compare the amount of all the gaseous molecules. First we melted the rows of all 5 gases into 1 row and created a new dataframe. We then plot the dataframe thus obtained using boxplot. Kindly scroll through the entire figure."
   ]
  },
  {
   "cell_type": "markdown",
   "id": "17a04fa8",
   "metadata": {},
   "source": [
    "[20]"
   ]
  },
  {
   "cell_type": "code",
   "execution_count": 39,
   "id": "19ad12c7",
   "metadata": {},
   "outputs": [
    {
     "data": {
      "text/plain": [
       "Text(0, 0.5, 'TMM')"
      ]
     },
     "execution_count": 39,
     "metadata": {},
     "output_type": "execute_result"
    },
    {
     "data": {
      "image/png": "[encoded data removed]",
      "text/plain": [
       "<Figure size 921.6x633.6 with 1 Axes>"
      ]
     },
     "metadata": {},
     "output_type": "display_data"
    }
   ],
   "source": [
    "plt.style.use('grayscale')\n",
    "sns.violinplot(data=s1, x=\"class\", y=\"tmm\", palette=\"light:#5A9\")\n",
    "plt.xlabel(\"Class\")\n",
    "plt.ylabel(\"TMM\")"
   ]
  },
  {
   "cell_type": "markdown",
   "id": "96e5baa9",
   "metadata": {},
   "source": [
    "Then we develop a joint plot to understand the distribution of tmm against class. Coz we are fascinated to compare every column."
   ]
  },
  {
   "cell_type": "markdown",
   "id": "b9091c71",
   "metadata": {},
   "source": [
    "[18], [19]"
   ]
  },
  {
   "cell_type": "code",
   "execution_count": 40,
   "id": "7b34c32b",
   "metadata": {},
   "outputs": [
    {
     "data": {
      "text/plain": [
       "Text(0.5, 0, 'Variables')"
      ]
     },
     "execution_count": 40,
     "metadata": {},
     "output_type": "execute_result"
    },
    {
     "data": {
      "image/png": "[encoded data removed]",
      "text/plain": [
       "<Figure size 1440x2160 with 1 Axes>"
      ]
     },
     "metadata": {},
     "output_type": "display_data"
    }
   ],
   "source": [
    "last_plot = pd.DataFrame({\"MHI\": s1[\"mhi\"], \"Shannon Entropy\": s1[\"shannon_entropy\"]})\n",
    "last_plot_melted = pd.melt(last_plot)\n",
    "sns.set_theme(style=\"ticks\", palette=\"pastel\")\n",
    "fig = plt.figure(figsize = (20, 30))\n",
    "plt.style.use('fivethirtyeight')\n",
    "sns.boxplot(x='variable', y='value', data=last_plot_melted, palette=\"RdPu\")\n",
    "plt.ylabel(\"Magnitude\")\n",
    "plt.xlabel(\"Variables\")"
   ]
  },
  {
   "cell_type": "markdown",
   "id": "0f922169",
   "metadata": {},
   "source": [
    "At last, We take a look at the ranges of shannon entropy and MHI using boxplot."
   ]
  },
  {
   "cell_type": "markdown",
   "id": "e85af87e",
   "metadata": {},
   "source": [
    "[16]  "
   ]
  },
  {
   "cell_type": "markdown",
   "id": "564fbf16",
   "metadata": {},
   "source": [
    "Thus, We compare and contrast the content of different elements to each other using different graphs offered by seaborn."
   ]
  },
  {
   "cell_type": "markdown",
   "id": "b8983128",
   "metadata": {},
   "source": [
    "## Summary"
   ]
  },
  {
   "cell_type": "markdown",
   "id": "c1c6860d",
   "metadata": {},
   "source": [
    "We go through a rollercoaster ride of cleaning and analysing data, building machine learning models and visualising the data in this assignment. As we define the problem at the beginning of each question, we conclude the answers at the bottom of every code in which we solve the problem and draw necessary deductions."
   ]
  },
  {
   "cell_type": "markdown",
   "id": "c1706169",
   "metadata": {},
   "source": [
    "## Reference"
   ]
  },
  {
   "cell_type": "markdown",
   "id": "9dcc6050",
   "metadata": {},
   "source": [
    "[01] Beny, stackoverflow.com, [online], 21 February 2022, (https://stackoverflow.com/questions/70248604/count-string-lengths-in-pandas-dataframe-column\n",
    "\n",
    "[02] Bhutani, K.(2021), geeksforgeeks.org, [online], 20 February 2022, (https://www.geeksforgeeks.org/python-pandas-series-str-cat-to-concatenate-string/#:~:text=Pandas%20str.cat()%20is,from%20the%20Python's%20default%20method)\n",
    "\n",
    "[03] Bhutani, K.(2020), geeksforgeeks.org, [online], 20 February 2022, (https://www.geeksforgeeks.org/python-pandas-dataframe-loc/)\n",
    "\n",
    "[04] Bhutani, K.(2018), geeksforgeeks.org, [online], 20 February 2022, (https://www.geeksforgeeks.org/python-delete-rows-columns-from-dataframe-using-pandas-drop/)\n",
    "\n",
    "[05] Bhutani, K.(2018), geeksforgeeks.org, [online], 22 February 2022, (https://www.geeksforgeeks.org/python-pandas-apply/)\n",
    "\n",
    "[06] blamblambunny, stackoverflow.com, [online], 27 March 2022, (https://stackoverflow.com/questions/15450192/fastest-way-to-compute-entropy-in-python)\n",
    "\n",
    "[07] Cel, B.(2015), stackoverflow.com, [online], 22 February 2022, (https://stackoverflow.com/questions/28556942/pandas-remove-rows-at-random-without-shuffling-dataset)\n",
    "\n",
    "[08] collections - Container datatypes, docs.pytho.org, [online], 15 March 2022, (https://docs.python.org/3/library/collections.html)\n",
    "\n",
    "[09] Datacamp commmunity(2016), datacamp.com, [online], 26 March 2022, (https://www.datacamp.com/community/tutorials/k-nearest-neighbor-classification-scikit-learn)\n",
    "\n",
    "[10] Friedman, D.(2018), dfrieds.com, [online], 21 February 2022, (https://dfrieds.com/data-analysis/groupby-python-pandas.html)\n",
    "\n",
    "[11] Gupta, A.(2019), stackoverflow.com, [online], 21 February 2022, (https://stackoverflow.com/questions/30522724/take-multiple-lists-into-dataframe)\n",
    "\n",
    "[12] Hayden, A.(2013), stackoverflow.com, [online], 22 February 2022, (https://stackoverflow.com/questions/17573814/count-occurrences-of-each-of-certain-words-in-pandas-dataframe)\n",
    "\n",
    "[13] Pawki, (2020), geeksforgeeks.org, [online], 20 February 2022, (https://www.geeksforgeeks.org/different-types-of-joins-in-pandas/)\n",
    "\n",
    "[14] Ranjan, S.(2021), geeksforgeeks.org, [online], 20 February 2022, (https://www.geeksforgeeks.org/python-pandas-series-str-contains/)\n",
    "\n",
    "[15] Ranjan, S.(2019), geeksforgeeks.org, [online], 20 February 2022, (https://www.geeksforgeeks.org/python-pandas-dataframe-loc/)\n",
    "\n",
    "[16] Rustagy, D.(2020), geeksforgeeks.org, [online], 28 March 2022, (https://www.geeksforgeeks.org/python-seaborn-jointplot-method/)\n",
    "\n",
    "[17] Scikit-learn developers (2018), scikit-learn.org, [online], 17 March 2022, (https://scikit-learn.org/stable/modules/generated/sklearn.model_selection.GroupShuffleSplit.html)\n",
    "\n",
    "[18] Seaborn Distplot documentation, seaborn.pydata.org,  [online], 21 March 2022,(https://seaborn.pydata.org/generated/seaborn.distplot.html)\n",
    "\n",
    "[19] Seaborn Distplot documentation, seaborn.pydata.org,  [online], 21 March 2022,(https://seaborn.pydata.org/generated/seaborn.distplot.html)\n",
    "\n",
    "[20] Seaborn Kdeplot documentation, seaborn.pydata.org, [online], 21 March 2022, (https://seaborn.pydata.org/generated/seaborn.kdeplot.html)\n",
    "\n",
    "[21] tonysyu, (2016), GitHub, [online], 22 February 2022, (http://tonysyu.github.io/raw_content/matplotlib-style-gallery/gallery.html)\n",
    "\n",
    "[22] Singh, M.(2018), geeksforgeeks.org, [online], 20 March 2022, (https://www.geeksforgeeks.org/python-convert-two-lists-into-a-dictionary/)\n",
    "\n",
    "[23] Ulhaq, M.(2009), stackoverflow.com, [online], 21 February 2022, (https://stackoverflow.com/questions/1155617/count-the-number-of-occurrences-of-a-character-in-a-string)\n",
    "\n",
    "[24] Zach, (2021), stackoverflow.com, [online], 22 February 2022, (https://www.statology.org/pandas-explode/)\n",
    "\n",
    "\n",
    "\n",
    "\n",
    "\n",
    "\n",
    "\n",
    "\n",
    "\n",
    "\n",
    "\n",
    "\n"
   ]
  }
 ],
 "metadata": {
  "kernelspec": {
   "display_name": "Python 3 (ipykernel)",
   "language": "python",
   "name": "python3"
  },
  "language_info": {
   "codemirror_mode": {
    "name": "ipython",
    "version": 3
   },
   "file_extension": ".py",
   "mimetype": "text/x-python",
   "name": "python",
   "nbconvert_exporter": "python",
   "pygments_lexer": "ipython3",
   "version": "3.9.7"
  }
 },
 "nbformat": 4,
 "nbformat_minor": 5
}
